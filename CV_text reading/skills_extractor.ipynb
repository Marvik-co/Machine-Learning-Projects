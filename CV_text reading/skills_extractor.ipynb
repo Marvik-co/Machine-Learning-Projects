{
 "cells": [
  {
   "cell_type": "code",
   "execution_count": 60,
   "metadata": {},
   "outputs": [],
   "source": [
    "from pyresparser import ResumeParser\n",
    "import os\n",
    "from docx import Document\n",
    "import warnings\n",
    "warnings.filterwarnings('ignore')"
   ]
  },
  {
   "cell_type": "code",
   "execution_count": 46,
   "metadata": {},
   "outputs": [
    {
     "name": "stdout",
     "output_type": "stream",
     "text": [
      "CV_100922.pdf\n"
     ]
    }
   ],
   "source": [
    "##file format should be in .txt , .docx or .pdf only\n",
    "import pandas as pd\n",
    "import PyPDF2\n",
    "df = open('CV_100922.pdf', 'rb')\n",
    "filed=input()\n",
    "pdfReader = PyPDF2.PdfFileReader(df)"
   ]
  },
  {
   "cell_type": "code",
   "execution_count": 70,
   "metadata": {},
   "outputs": [
    {
     "name": "stdout",
     "output_type": "stream",
     "text": [
      "1\n",
      "VIKRAM DEV\n",
      "ACADEMIC DETAILS\n",
      "Year Degree / Board Institute GPA / Marks(%)\n",
      "---B.Tech in Production & Industrial Engineering Indian Institute of Technology Delhi 7.235\n",
      "2018 CBSE DAV Public School Sec-4 Bokaro \n",
      "Steel City, Jharkhand86.4\n",
      "2016 CBSE Kendriya Vidyalaya Godda, Jharkhand 10\n",
      "SCHOLASTIC ACHIEVEMENTS\n",
      "• Certificate of Excellence : Awarded for showing outstanding performance in academic among 750+ students, DAV BS City (2018)\n",
      "• CBSE Merit Certificate  : Conferred for outstanding academic performance and secured A1 grade in all course subjects  (2016)\n",
      "• NSEJS Merit Certificate : Selected in Top 10%; The total of 46688 candidates enrolled, conducted over 1170 exam centres (2014)\n",
      "• Quiz Competition National Year Of Mathematics : Secured 3rd Rank at Cluster level, All India Kendriya Vidyalaya Sangathan (2012)\n",
      "• DTSE Merit Certificate:  Secured 53rd Rank among the 10000+ candidates from 50+ schools, District level competition (2012)\n",
      "INTERNSHIPS\n",
      "• Serri Tech Solutions : Data Science Intern                                                                                    (May, 2022 - June, 2022)\n",
      "- Built conversational AI Chatbot for exclusive, relevant & verified instant networking with people using DialogFlow API\n",
      "- Built collaborative filtering profile recommender system , interest word detector model and integrated them with the Chatbot\n",
      "- Data mined Linkedin profile data using Selenium and Beautiful Soup; Developed an efficient SQL server database  environment\n",
      "• Edgenus Talent Incubation Pvt. Ltd  : Business Strategy Intern                                          (July, 2021 - September, 2021)\n",
      "- Performed competitive benchmarking analysis on 20+ Key Market Stakeholders; Identified global leading practices & KPI\n",
      "- Collaborated with the IT team to built online community for artists and creators; Introduced product referral and coupon program\n",
      "• Fingertips Education  : Content Development Intern                                                                      (June, 2021 - July, 2021)\n",
      "- Researched and Curated a massive (40K+ minutes) online digital library for school students and teachers education purposes\n",
      "- Provided valuable inputs  and designed features and functionality of the application while collaborating with operations team\n",
      "PROJECTS\n",
      "• Landmark Detection using YOLO v4 for Self Driving Cars  (Prof. Sunil Jha)                                  (July, 2022 - Present)\n",
      "- Developed a landmark detection system for autonomous cars, utilised on the IIT Delhi campus for path detection; Implemented\n",
      "- YOLO v4 algorithm, created our custom dataset, detected required landmarks with 92% accuracy by creating our Yolo weights\n",
      "• Supply Chain Complexity: A Meta Analysis  (Prof. Gaurav Dwivedi)                           (December, 2021 - February, 2022)\n",
      "- Carried out a systematic search in different databases and extract key data to understand Indian supply chain  complexity\n",
      "- Developed Python codes to automate the data extraction process, carried out statistical correlation analysis over 50 papers\n",
      "• Fine Tune BERT for Text Classification with TensorFlow  (Snehan Kekre)                              (June, 2022 - June, 2022)\n",
      "- Built TensorFlow Input Pipelines for Text Data with the tf.data API using Quora Insincere Questions Dataset ; Fine-tuned BERT for\n",
      "- text classification with TensorFlow 2 and Hub; It could detect toxic content to improve online conversations upto 90% accuracy\n",
      "• Suspicious Apps Detection for Mobile Safety Research  (Independent Project)                        (April, 2022 - April, 2022)\n",
      "- Web crawled Apple App Store data, preprocessed data using Nltk RegexpTokenizer  and KNN approach to built the model\n",
      "- Did the token analysis using Naive Bayes, Logistic Regression  model evaluation and detected apps with 95% accuracy\n",
      "• Customer Financial Profiling For Investment Firms and Banks  (Independent Project)    (August, 2021 - August, 2021)\n",
      "- Classified customers of a financial institution, found their interest in signing E-loan services offered by tracking financial history\n",
      "- Performed EDA, feature scaling to normalise statistical observations; Tuned hyper-parameters to achieve 70.60% accuracy\n",
      "• Exploratory Data Analysis with Seaborn  (Snehan Kekre)                                                             (July, 2021 - July,2021)\n",
      "- Identified and interpreted inherent quantitative statistical relationships in Breast Cancer Wisconsin (Diagnostic)  dataset\n",
      "- Produced and customised various chart types with Seaborn in Python; Applied graphical and statistical techniques in EDA\n",
      "POSITIONS OF RESPONSIBILITY\n",
      "• Core Team Member, Wellness Club IIT Delhi                                                                            (August, 2021 - July, 2022)\n",
      "Planned & executed events pivotal in encouraging physical, social & intellectual awareness amongst IITD fraternity\n",
      "- Led a 3-tier team of 50+ members, coordinated 20+ intra IIT Delhi events; Revamped the marketing, publicity and event\n",
      "- structure for online management with 100% success rate, built an IIT Delhi community to help them achieve holistic wellness\n",
      "• Supervisor Events, International day of Yoga (IDY'22)                                                               (May, 2022 - June, 2022)\n",
      "- Led a 30+ team of organisers, managed 11+ events, achieved 110% YoY increase in events with conservative monetary prizes\n",
      "- Conceptualised & implemented a pre-event checklist to ensure proactive planning, preventing exigencies  & smooth functioning\n",
      "- Facilitated events & publicity by monitoring quality & professionalism in designs, in terms of coherence & aesthetic\n",
      "•  Marketing Team Head, Rendezvous                                                                                    (January, 2021 - March, 2021)\n",
      "- Revamped marketing structure and Pitched 50+ companies with proposals for sponsorship and collaboration opportunities\n",
      "- Demarcated deliverables in Memorandum of Understanding to avoid conflict and build better relationship with sponsorsDisclaimer: All the information on this page is entered by student. Page 1LinkedIn : https://www.linkedin.com/in/vikram-dev-a7a0221ba/\n",
      "Github : https://github.com/Marvik-co\n",
      "Email : vikramdev8905@gmail.com\n",
      "Phone : +91 8905230562\n"
     ]
    }
   ],
   "source": [
    "print(pdfReader.numPages)\n",
    "  \n",
    "# creating a page object\n",
    "pageobj = pdfReader.getPage(0)\n",
    "  \n",
    "# extracting text from page\n",
    "print(pageobj.extractText())\n",
    "  \n",
    "# closing the pdf file object\n",
    "# pageobj.close()"
   ]
  },
  {
   "cell_type": "code",
   "execution_count": 93,
   "metadata": {},
   "outputs": [],
   "source": [
    "dat = pageobj.extractText()\n",
    "# dat"
   ]
  },
  {
   "cell_type": "code",
   "execution_count": 96,
   "metadata": {},
   "outputs": [
    {
     "name": "stdout",
     "output_type": "stream",
     "text": [
      "7.235\n",
      "86.4\n",
      "70.60\n"
     ]
    }
   ],
   "source": [
    "import re\n",
    "# my_text = docx2txt.process(\"resume. dacx\"\n",
    "# pattern = re.compile(r'[a-zA-Z0-9-\\.]+@[a-zA-Z0-9-\\.]*\\.(com|edu|net)')\n",
    "pattern = re.compile(r'[0-9]+[.]+[0-9]*')\n",
    "\n",
    "matches = pattern.finditer(dat)\n",
    "                     \n",
    "for match in matches:\n",
    "#     print (match.group(0))\n",
    "    print(match.group(0))\n",
    "#     break"
   ]
  },
  {
   "cell_type": "code",
   "execution_count": 48,
   "metadata": {},
   "outputs": [],
   "source": [
    "# spacy.load('en_core_web_sm')\n",
    "# try:\n",
    "#     doc = Document()\n",
    "#     with open(filed, 'r') as file:\n",
    "#         doc.add_paragraph(file.read())\n",
    "#     doc.save(\"text.docx\")\n",
    "#     data = ResumeParser('text.docx').get_extracted_data()\n",
    "#     print(data['ACADEMIC DETAILS'])\n",
    "# except:\n",
    "#     data = ResumeParser(filed).get_extracted_data()\n",
    "#     print(data['ACADEMIC DETAILS'])"
   ]
  },
  {
   "cell_type": "code",
   "execution_count": 68,
   "metadata": {},
   "outputs": [],
   "source": [
    "import docx2txt"
   ]
  },
  {
   "cell_type": "code",
   "execution_count": 71,
   "metadata": {},
   "outputs": [],
   "source": [
    "# resume = docx2txt.process('CV_100922.pdf')\n",
    "# resume"
   ]
  },
  {
   "cell_type": "code",
   "execution_count": null,
   "metadata": {},
   "outputs": [],
   "source": []
  }
 ],
 "metadata": {
  "kernelspec": {
   "display_name": "Python 3 (ipykernel)",
   "language": "python",
   "name": "python3"
  },
  "language_info": {
   "codemirror_mode": {
    "name": "ipython",
    "version": 3
   },
   "file_extension": ".py",
   "mimetype": "text/x-python",
   "name": "python",
   "nbconvert_exporter": "python",
   "pygments_lexer": "ipython3",
   "version": "3.9.12"
  }
 },
 "nbformat": 4,
 "nbformat_minor": 4
}
